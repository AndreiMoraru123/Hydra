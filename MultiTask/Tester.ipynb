{
 "cells": [
  {
   "cell_type": "code",
   "execution_count": 11,
   "outputs": [],
   "source": [
    "from Net import *\n",
    "from VideoUtils import *\n",
    "import torch\n",
    "from torch.autograd.variable import Variable\n",
    "import numpy as np\n",
    "from PIL import Image\n",
    "import matplotlib.pyplot as plt\n",
    "import matplotlib.cm as cm\n",
    "import matplotlib.colors as co\n",
    "import cv2\n",
    "from torchvision import transforms\n",
    "import gc\n",
    "gc.collect()\n",
    "torch.cuda.empty_cache()"
   ],
   "metadata": {
    "collapsed": false
   }
  },
  {
   "cell_type": "code",
   "execution_count": 12,
   "outputs": [],
   "source": [
    "model = HydraNet()\n",
    "model.mobilenet_encoder()\n",
    "model.refinenet_decoder()\n",
    "model.initialize_weights()"
   ],
   "metadata": {
    "collapsed": false
   }
  },
  {
   "cell_type": "code",
   "execution_count": 13,
   "outputs": [
    {
     "data": {
      "text/plain": "<All keys matched successfully>"
     },
     "execution_count": 13,
     "metadata": {},
     "output_type": "execute_result"
    }
   ],
   "source": [
    "ckpt = torch.load('KITTI.ckpt')\n",
    "model.load_state_dict(ckpt['state_dict'])"
   ],
   "metadata": {
    "collapsed": false
   }
  },
  {
   "cell_type": "code",
   "execution_count": 14,
   "outputs": [],
   "source": [
    "CMAP = np.load('cmap.npy')\n",
    "NUM_CLASSES = 6"
   ],
   "metadata": {
    "collapsed": false
   }
  },
  {
   "cell_type": "code",
   "execution_count": 15,
   "outputs": [],
   "source": [
    "# write_video('video_input\\daytraffic.mp4')\n",
    "# write_video('video_input\\\\rainy.mp4')\n",
    "write_video('video_input\\\\night.mp4')"
   ],
   "metadata": {
    "collapsed": false
   }
  },
  {
   "cell_type": "code",
   "execution_count": 16,
   "outputs": [],
   "source": [
    "if torch.cuda.is_available():\n",
    "    _ = model.cuda() # gpu\n",
    "_ = model.eval() # eval mode"
   ],
   "metadata": {
    "collapsed": false
   }
  },
  {
   "cell_type": "code",
   "execution_count": 17,
   "outputs": [],
   "source": [
    "IMG_SCALE  = 1./255\n",
    "IMG_MEAN = np.array([0.485, 0.456, 0.406]).reshape((1, 1, 3))\n",
    "IMG_STD = np.array([0.229, 0.224, 0.225]).reshape((1, 1, 3))\n",
    "\n",
    "def prepare_img(img):\n",
    "    return (img * IMG_SCALE - IMG_MEAN) / IMG_STD"
   ],
   "metadata": {
    "collapsed": false
   }
  },
  {
   "cell_type": "code",
   "execution_count": 18,
   "outputs": [],
   "source": [
    "def pipeline(img):\n",
    "    with torch.no_grad():\n",
    "        img_var = Variable(torch.from_numpy(prepare_img(img).transpose(2, 0, 1)[None]), requires_grad=False).float()\n",
    "        if torch.cuda.is_available():\n",
    "            img_var = img_var.cuda()\n",
    "        depth, segm = model(img_var)\n",
    "        segm = cv2.resize(segm[0, :NUM_CLASSES].cpu().data.numpy().transpose(1, 2, 0),\n",
    "                        img.shape[:2][::-1],\n",
    "                        interpolation=cv2.INTER_LANCZOS4)\n",
    "        depth = cv2.resize(depth[0, 0].cpu().data.numpy(),\n",
    "                        img.shape[:2][::-1],\n",
    "                        interpolation=cv2.INTER_LANCZOS4)\n",
    "        segm = CMAP[segm.argmax(axis=2)].astype(np.uint8)\n",
    "        depth = np.abs(depth)\n",
    "        return depth, segm\n",
    "\n",
    "def depth_to_rgb(depth):\n",
    "    normalizer = co.Normalize(vmin=0, vmax=80)\n",
    "    mapper = cm.ScalarMappable(norm=normalizer, cmap='plasma')\n",
    "    colormapped_im = (mapper.to_rgba(depth)[:,:,:3] * 255).astype(np.uint8)\n",
    "    return colormapped_im"
   ],
   "metadata": {
    "collapsed": false
   }
  },
  {
   "cell_type": "code",
   "execution_count": 19,
   "outputs": [],
   "source": [
    "gc.collect()\n",
    "torch.cuda.empty_cache()\n",
    "video_files = sorted(glob.glob('video_output/*png'))\n",
    "\n",
    "result_video = []\n",
    "for idx, img_path in enumerate(video_files):\n",
    "    image = np.array(Image.open(img_path))\n",
    "    h,w,_ = image.shape\n",
    "    depth, seg = pipeline(image)\n",
    "    result_video.append(cv2.cvtColor(cv2.hconcat([image, seg, depth_to_rgb(depth)]), cv2.COLOR_BGR2RGB))\n",
    "\n",
    "out = cv2.VideoWriter('predictions/out.mp4',cv2.VideoWriter_fourcc(*'MP4V'), 15, (3 * w, h))\n",
    "\n",
    "for i in range(len(result_video)):\n",
    "    out.write(result_video[i])\n",
    "out.release()"
   ],
   "metadata": {
    "collapsed": false
   }
  },
  {
   "cell_type": "code",
   "execution_count": 20,
   "outputs": [],
   "source": [
    "play_video('predictions\\out.mp4')"
   ],
   "metadata": {
    "collapsed": false
   }
  }
 ],
 "metadata": {
  "kernelspec": {
   "display_name": "Python 3",
   "language": "python",
   "name": "python3"
  },
  "language_info": {
   "codemirror_mode": {
    "name": "ipython",
    "version": 2
   },
   "file_extension": ".py",
   "mimetype": "text/x-python",
   "name": "python",
   "nbconvert_exporter": "python",
   "pygments_lexer": "ipython2",
   "version": "2.7.6"
  }
 },
 "nbformat": 4,
 "nbformat_minor": 0
}
