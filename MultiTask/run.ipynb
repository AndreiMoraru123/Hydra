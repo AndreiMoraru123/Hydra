{
 "cells": [
  {
   "cell_type": "code",
   "execution_count": 1,
   "metadata": {
    "collapsed": true
   },
   "outputs": [],
   "source": [
    "# !wget https://thinkautonomous-segmentation.s3.eu-west-3.amazonaws.com/highway_1241_376.avi"
   ]
  },
  {
   "cell_type": "code",
   "execution_count": 2,
   "outputs": [],
   "source": [
    "from Net import *\n",
    "import torch\n",
    "import numpy as np"
   ],
   "metadata": {
    "collapsed": false
   }
  },
  {
   "cell_type": "code",
   "execution_count": 3,
   "outputs": [],
   "source": [
    "model = HydraNet()\n",
    "model.initialize_weights()"
   ],
   "metadata": {
    "collapsed": false
   }
  },
  {
   "cell_type": "code",
   "execution_count": 4,
   "outputs": [
    {
     "data": {
      "text/plain": "<All keys matched successfully>"
     },
     "execution_count": 4,
     "metadata": {},
     "output_type": "execute_result"
    }
   ],
   "source": [
    "ckpt = torch.load('KITTI.ckpt')\n",
    "model.load_state_dict(ckpt['state_dict'])"
   ],
   "metadata": {
    "collapsed": false
   }
  },
  {
   "cell_type": "code",
   "execution_count": 5,
   "outputs": [
    {
     "data": {
      "text/plain": "HydraNet(\n  (layer1): Sequential(\n    (0): Conv2d(3, 32, kernel_size=(3, 3), stride=(2, 2), padding=(1, 1), bias=False)\n    (1): BatchNorm2d(32, eps=0.001, momentum=0.01, affine=True, track_running_stats=True)\n    (2): ReLU6(inplace=True)\n  )\n  (layer2): Sequential(\n    (0): InvertedResidualBlock(\n      (output): Sequential(\n        (0): Sequential(\n          (0): Conv2d(32, 32, kernel_size=(1, 1), stride=(1, 1), bias=False)\n          (1): BatchNorm2d(32, eps=1e-05, momentum=0.1, affine=True, track_running_stats=True)\n          (2): ReLU6(inplace=True)\n        )\n        (1): Sequential(\n          (0): Conv2d(32, 32, kernel_size=(3, 3), stride=(1, 1), padding=(1, 1), groups=32, bias=False)\n          (1): BatchNorm2d(32, eps=1e-05, momentum=0.1, affine=True, track_running_stats=True)\n          (2): ReLU6(inplace=True)\n        )\n        (2): Sequential(\n          (0): Conv2d(32, 16, kernel_size=(1, 1), stride=(1, 1), bias=False)\n          (1): BatchNorm2d(16, eps=1e-05, momentum=0.1, affine=True, track_running_stats=True)\n        )\n      )\n    )\n  )\n  (layer3): Sequential(\n    (0): InvertedResidualBlock(\n      (output): Sequential(\n        (0): Sequential(\n          (0): Conv2d(16, 96, kernel_size=(1, 1), stride=(1, 1), bias=False)\n          (1): BatchNorm2d(96, eps=1e-05, momentum=0.1, affine=True, track_running_stats=True)\n          (2): ReLU6(inplace=True)\n        )\n        (1): Sequential(\n          (0): Conv2d(96, 96, kernel_size=(3, 3), stride=(2, 2), padding=(1, 1), groups=96, bias=False)\n          (1): BatchNorm2d(96, eps=1e-05, momentum=0.1, affine=True, track_running_stats=True)\n          (2): ReLU6(inplace=True)\n        )\n        (2): Sequential(\n          (0): Conv2d(96, 24, kernel_size=(1, 1), stride=(1, 1), bias=False)\n          (1): BatchNorm2d(24, eps=1e-05, momentum=0.1, affine=True, track_running_stats=True)\n        )\n      )\n    )\n    (1): InvertedResidualBlock(\n      (output): Sequential(\n        (0): Sequential(\n          (0): Conv2d(24, 144, kernel_size=(1, 1), stride=(1, 1), bias=False)\n          (1): BatchNorm2d(144, eps=1e-05, momentum=0.1, affine=True, track_running_stats=True)\n          (2): ReLU6(inplace=True)\n        )\n        (1): Sequential(\n          (0): Conv2d(144, 144, kernel_size=(3, 3), stride=(1, 1), padding=(1, 1), groups=144, bias=False)\n          (1): BatchNorm2d(144, eps=1e-05, momentum=0.1, affine=True, track_running_stats=True)\n          (2): ReLU6(inplace=True)\n        )\n        (2): Sequential(\n          (0): Conv2d(144, 24, kernel_size=(1, 1), stride=(1, 1), bias=False)\n          (1): BatchNorm2d(24, eps=1e-05, momentum=0.1, affine=True, track_running_stats=True)\n        )\n      )\n    )\n  )\n  (layer4): Sequential(\n    (0): InvertedResidualBlock(\n      (output): Sequential(\n        (0): Sequential(\n          (0): Conv2d(24, 144, kernel_size=(1, 1), stride=(1, 1), bias=False)\n          (1): BatchNorm2d(144, eps=1e-05, momentum=0.1, affine=True, track_running_stats=True)\n          (2): ReLU6(inplace=True)\n        )\n        (1): Sequential(\n          (0): Conv2d(144, 144, kernel_size=(3, 3), stride=(2, 2), padding=(1, 1), groups=144, bias=False)\n          (1): BatchNorm2d(144, eps=1e-05, momentum=0.1, affine=True, track_running_stats=True)\n          (2): ReLU6(inplace=True)\n        )\n        (2): Sequential(\n          (0): Conv2d(144, 32, kernel_size=(1, 1), stride=(1, 1), bias=False)\n          (1): BatchNorm2d(32, eps=1e-05, momentum=0.1, affine=True, track_running_stats=True)\n        )\n      )\n    )\n    (1): InvertedResidualBlock(\n      (output): Sequential(\n        (0): Sequential(\n          (0): Conv2d(32, 192, kernel_size=(1, 1), stride=(1, 1), bias=False)\n          (1): BatchNorm2d(192, eps=1e-05, momentum=0.1, affine=True, track_running_stats=True)\n          (2): ReLU6(inplace=True)\n        )\n        (1): Sequential(\n          (0): Conv2d(192, 192, kernel_size=(3, 3), stride=(1, 1), padding=(1, 1), groups=192, bias=False)\n          (1): BatchNorm2d(192, eps=1e-05, momentum=0.1, affine=True, track_running_stats=True)\n          (2): ReLU6(inplace=True)\n        )\n        (2): Sequential(\n          (0): Conv2d(192, 32, kernel_size=(1, 1), stride=(1, 1), bias=False)\n          (1): BatchNorm2d(32, eps=1e-05, momentum=0.1, affine=True, track_running_stats=True)\n        )\n      )\n    )\n    (2): InvertedResidualBlock(\n      (output): Sequential(\n        (0): Sequential(\n          (0): Conv2d(32, 192, kernel_size=(1, 1), stride=(1, 1), bias=False)\n          (1): BatchNorm2d(192, eps=1e-05, momentum=0.1, affine=True, track_running_stats=True)\n          (2): ReLU6(inplace=True)\n        )\n        (1): Sequential(\n          (0): Conv2d(192, 192, kernel_size=(3, 3), stride=(1, 1), padding=(1, 1), groups=192, bias=False)\n          (1): BatchNorm2d(192, eps=1e-05, momentum=0.1, affine=True, track_running_stats=True)\n          (2): ReLU6(inplace=True)\n        )\n        (2): Sequential(\n          (0): Conv2d(192, 32, kernel_size=(1, 1), stride=(1, 1), bias=False)\n          (1): BatchNorm2d(32, eps=1e-05, momentum=0.1, affine=True, track_running_stats=True)\n        )\n      )\n    )\n  )\n  (layer5): Sequential(\n    (0): InvertedResidualBlock(\n      (output): Sequential(\n        (0): Sequential(\n          (0): Conv2d(32, 192, kernel_size=(1, 1), stride=(1, 1), bias=False)\n          (1): BatchNorm2d(192, eps=1e-05, momentum=0.1, affine=True, track_running_stats=True)\n          (2): ReLU6(inplace=True)\n        )\n        (1): Sequential(\n          (0): Conv2d(192, 192, kernel_size=(3, 3), stride=(2, 2), padding=(1, 1), groups=192, bias=False)\n          (1): BatchNorm2d(192, eps=1e-05, momentum=0.1, affine=True, track_running_stats=True)\n          (2): ReLU6(inplace=True)\n        )\n        (2): Sequential(\n          (0): Conv2d(192, 64, kernel_size=(1, 1), stride=(1, 1), bias=False)\n          (1): BatchNorm2d(64, eps=1e-05, momentum=0.1, affine=True, track_running_stats=True)\n        )\n      )\n    )\n    (1): InvertedResidualBlock(\n      (output): Sequential(\n        (0): Sequential(\n          (0): Conv2d(64, 384, kernel_size=(1, 1), stride=(1, 1), bias=False)\n          (1): BatchNorm2d(384, eps=1e-05, momentum=0.1, affine=True, track_running_stats=True)\n          (2): ReLU6(inplace=True)\n        )\n        (1): Sequential(\n          (0): Conv2d(384, 384, kernel_size=(3, 3), stride=(1, 1), padding=(1, 1), groups=384, bias=False)\n          (1): BatchNorm2d(384, eps=1e-05, momentum=0.1, affine=True, track_running_stats=True)\n          (2): ReLU6(inplace=True)\n        )\n        (2): Sequential(\n          (0): Conv2d(384, 64, kernel_size=(1, 1), stride=(1, 1), bias=False)\n          (1): BatchNorm2d(64, eps=1e-05, momentum=0.1, affine=True, track_running_stats=True)\n        )\n      )\n    )\n    (2): InvertedResidualBlock(\n      (output): Sequential(\n        (0): Sequential(\n          (0): Conv2d(64, 384, kernel_size=(1, 1), stride=(1, 1), bias=False)\n          (1): BatchNorm2d(384, eps=1e-05, momentum=0.1, affine=True, track_running_stats=True)\n          (2): ReLU6(inplace=True)\n        )\n        (1): Sequential(\n          (0): Conv2d(384, 384, kernel_size=(3, 3), stride=(1, 1), padding=(1, 1), groups=384, bias=False)\n          (1): BatchNorm2d(384, eps=1e-05, momentum=0.1, affine=True, track_running_stats=True)\n          (2): ReLU6(inplace=True)\n        )\n        (2): Sequential(\n          (0): Conv2d(384, 64, kernel_size=(1, 1), stride=(1, 1), bias=False)\n          (1): BatchNorm2d(64, eps=1e-05, momentum=0.1, affine=True, track_running_stats=True)\n        )\n      )\n    )\n    (3): InvertedResidualBlock(\n      (output): Sequential(\n        (0): Sequential(\n          (0): Conv2d(64, 384, kernel_size=(1, 1), stride=(1, 1), bias=False)\n          (1): BatchNorm2d(384, eps=1e-05, momentum=0.1, affine=True, track_running_stats=True)\n          (2): ReLU6(inplace=True)\n        )\n        (1): Sequential(\n          (0): Conv2d(384, 384, kernel_size=(3, 3), stride=(1, 1), padding=(1, 1), groups=384, bias=False)\n          (1): BatchNorm2d(384, eps=1e-05, momentum=0.1, affine=True, track_running_stats=True)\n          (2): ReLU6(inplace=True)\n        )\n        (2): Sequential(\n          (0): Conv2d(384, 64, kernel_size=(1, 1), stride=(1, 1), bias=False)\n          (1): BatchNorm2d(64, eps=1e-05, momentum=0.1, affine=True, track_running_stats=True)\n        )\n      )\n    )\n  )\n  (layer6): Sequential(\n    (0): InvertedResidualBlock(\n      (output): Sequential(\n        (0): Sequential(\n          (0): Conv2d(64, 384, kernel_size=(1, 1), stride=(1, 1), bias=False)\n          (1): BatchNorm2d(384, eps=1e-05, momentum=0.1, affine=True, track_running_stats=True)\n          (2): ReLU6(inplace=True)\n        )\n        (1): Sequential(\n          (0): Conv2d(384, 384, kernel_size=(3, 3), stride=(1, 1), padding=(1, 1), groups=384, bias=False)\n          (1): BatchNorm2d(384, eps=1e-05, momentum=0.1, affine=True, track_running_stats=True)\n          (2): ReLU6(inplace=True)\n        )\n        (2): Sequential(\n          (0): Conv2d(384, 96, kernel_size=(1, 1), stride=(1, 1), bias=False)\n          (1): BatchNorm2d(96, eps=1e-05, momentum=0.1, affine=True, track_running_stats=True)\n        )\n      )\n    )\n    (1): InvertedResidualBlock(\n      (output): Sequential(\n        (0): Sequential(\n          (0): Conv2d(96, 576, kernel_size=(1, 1), stride=(1, 1), bias=False)\n          (1): BatchNorm2d(576, eps=1e-05, momentum=0.1, affine=True, track_running_stats=True)\n          (2): ReLU6(inplace=True)\n        )\n        (1): Sequential(\n          (0): Conv2d(576, 576, kernel_size=(3, 3), stride=(1, 1), padding=(1, 1), groups=576, bias=False)\n          (1): BatchNorm2d(576, eps=1e-05, momentum=0.1, affine=True, track_running_stats=True)\n          (2): ReLU6(inplace=True)\n        )\n        (2): Sequential(\n          (0): Conv2d(576, 96, kernel_size=(1, 1), stride=(1, 1), bias=False)\n          (1): BatchNorm2d(96, eps=1e-05, momentum=0.1, affine=True, track_running_stats=True)\n        )\n      )\n    )\n    (2): InvertedResidualBlock(\n      (output): Sequential(\n        (0): Sequential(\n          (0): Conv2d(96, 576, kernel_size=(1, 1), stride=(1, 1), bias=False)\n          (1): BatchNorm2d(576, eps=1e-05, momentum=0.1, affine=True, track_running_stats=True)\n          (2): ReLU6(inplace=True)\n        )\n        (1): Sequential(\n          (0): Conv2d(576, 576, kernel_size=(3, 3), stride=(1, 1), padding=(1, 1), groups=576, bias=False)\n          (1): BatchNorm2d(576, eps=1e-05, momentum=0.1, affine=True, track_running_stats=True)\n          (2): ReLU6(inplace=True)\n        )\n        (2): Sequential(\n          (0): Conv2d(576, 96, kernel_size=(1, 1), stride=(1, 1), bias=False)\n          (1): BatchNorm2d(96, eps=1e-05, momentum=0.1, affine=True, track_running_stats=True)\n        )\n      )\n    )\n  )\n  (layer7): Sequential(\n    (0): InvertedResidualBlock(\n      (output): Sequential(\n        (0): Sequential(\n          (0): Conv2d(96, 576, kernel_size=(1, 1), stride=(1, 1), bias=False)\n          (1): BatchNorm2d(576, eps=1e-05, momentum=0.1, affine=True, track_running_stats=True)\n          (2): ReLU6(inplace=True)\n        )\n        (1): Sequential(\n          (0): Conv2d(576, 576, kernel_size=(3, 3), stride=(2, 2), padding=(1, 1), groups=576, bias=False)\n          (1): BatchNorm2d(576, eps=1e-05, momentum=0.1, affine=True, track_running_stats=True)\n          (2): ReLU6(inplace=True)\n        )\n        (2): Sequential(\n          (0): Conv2d(576, 160, kernel_size=(1, 1), stride=(1, 1), bias=False)\n          (1): BatchNorm2d(160, eps=1e-05, momentum=0.1, affine=True, track_running_stats=True)\n        )\n      )\n    )\n    (1): InvertedResidualBlock(\n      (output): Sequential(\n        (0): Sequential(\n          (0): Conv2d(160, 960, kernel_size=(1, 1), stride=(1, 1), bias=False)\n          (1): BatchNorm2d(960, eps=1e-05, momentum=0.1, affine=True, track_running_stats=True)\n          (2): ReLU6(inplace=True)\n        )\n        (1): Sequential(\n          (0): Conv2d(960, 960, kernel_size=(3, 3), stride=(1, 1), padding=(1, 1), groups=960, bias=False)\n          (1): BatchNorm2d(960, eps=1e-05, momentum=0.1, affine=True, track_running_stats=True)\n          (2): ReLU6(inplace=True)\n        )\n        (2): Sequential(\n          (0): Conv2d(960, 160, kernel_size=(1, 1), stride=(1, 1), bias=False)\n          (1): BatchNorm2d(160, eps=1e-05, momentum=0.1, affine=True, track_running_stats=True)\n        )\n      )\n    )\n    (2): InvertedResidualBlock(\n      (output): Sequential(\n        (0): Sequential(\n          (0): Conv2d(160, 960, kernel_size=(1, 1), stride=(1, 1), bias=False)\n          (1): BatchNorm2d(960, eps=1e-05, momentum=0.1, affine=True, track_running_stats=True)\n          (2): ReLU6(inplace=True)\n        )\n        (1): Sequential(\n          (0): Conv2d(960, 960, kernel_size=(3, 3), stride=(1, 1), padding=(1, 1), groups=960, bias=False)\n          (1): BatchNorm2d(960, eps=1e-05, momentum=0.1, affine=True, track_running_stats=True)\n          (2): ReLU6(inplace=True)\n        )\n        (2): Sequential(\n          (0): Conv2d(960, 160, kernel_size=(1, 1), stride=(1, 1), bias=False)\n          (1): BatchNorm2d(160, eps=1e-05, momentum=0.1, affine=True, track_running_stats=True)\n        )\n      )\n    )\n  )\n  (layer8): Sequential(\n    (0): InvertedResidualBlock(\n      (output): Sequential(\n        (0): Sequential(\n          (0): Conv2d(160, 960, kernel_size=(1, 1), stride=(1, 1), bias=False)\n          (1): BatchNorm2d(960, eps=1e-05, momentum=0.1, affine=True, track_running_stats=True)\n          (2): ReLU6(inplace=True)\n        )\n        (1): Sequential(\n          (0): Conv2d(960, 960, kernel_size=(3, 3), stride=(1, 1), padding=(1, 1), groups=960, bias=False)\n          (1): BatchNorm2d(960, eps=1e-05, momentum=0.1, affine=True, track_running_stats=True)\n          (2): ReLU6(inplace=True)\n        )\n        (2): Sequential(\n          (0): Conv2d(960, 320, kernel_size=(1, 1), stride=(1, 1), bias=False)\n          (1): BatchNorm2d(320, eps=1e-05, momentum=0.1, affine=True, track_running_stats=True)\n        )\n      )\n    )\n  )\n  (conv8): Conv2d(320, 256, kernel_size=(1, 1), stride=(1, 1), bias=False)\n  (conv7): Conv2d(160, 256, kernel_size=(1, 1), stride=(1, 1), bias=False)\n  (conv6): Conv2d(96, 256, kernel_size=(1, 1), stride=(1, 1), bias=False)\n  (conv5): Conv2d(64, 256, kernel_size=(1, 1), stride=(1, 1), bias=False)\n  (conv4): Conv2d(32, 256, kernel_size=(1, 1), stride=(1, 1), bias=False)\n  (conv3): Conv2d(24, 256, kernel_size=(1, 1), stride=(1, 1), bias=False)\n  (crp4): Sequential(\n    (0): ChainedResidualPooling(\n      (1_outvar_dimred): Conv2d(256, 256, kernel_size=(1, 1), stride=(1, 1), bias=False)\n      (2_outvar_dimred): Conv2d(256, 256, kernel_size=(1, 1), stride=(1, 1), bias=False)\n      (3_outvar_dimred): Conv2d(256, 256, kernel_size=(1, 1), stride=(1, 1), bias=False)\n      (4_outvar_dimred): Conv2d(256, 256, kernel_size=(1, 1), stride=(1, 1), bias=False)\n      (max_pool): MaxPool2d(kernel_size=5, stride=1, padding=2, dilation=1, ceil_mode=False)\n    )\n  )\n  (crp3): Sequential(\n    (0): ChainedResidualPooling(\n      (1_outvar_dimred): Conv2d(256, 256, kernel_size=(1, 1), stride=(1, 1), bias=False)\n      (2_outvar_dimred): Conv2d(256, 256, kernel_size=(1, 1), stride=(1, 1), bias=False)\n      (3_outvar_dimred): Conv2d(256, 256, kernel_size=(1, 1), stride=(1, 1), bias=False)\n      (4_outvar_dimred): Conv2d(256, 256, kernel_size=(1, 1), stride=(1, 1), bias=False)\n      (max_pool): MaxPool2d(kernel_size=5, stride=1, padding=2, dilation=1, ceil_mode=False)\n    )\n  )\n  (crp2): Sequential(\n    (0): ChainedResidualPooling(\n      (1_outvar_dimred): Conv2d(256, 256, kernel_size=(1, 1), stride=(1, 1), bias=False)\n      (2_outvar_dimred): Conv2d(256, 256, kernel_size=(1, 1), stride=(1, 1), bias=False)\n      (3_outvar_dimred): Conv2d(256, 256, kernel_size=(1, 1), stride=(1, 1), bias=False)\n      (4_outvar_dimred): Conv2d(256, 256, kernel_size=(1, 1), stride=(1, 1), bias=False)\n      (max_pool): MaxPool2d(kernel_size=5, stride=1, padding=2, dilation=1, ceil_mode=False)\n    )\n  )\n  (crp1): Sequential(\n    (0): ChainedResidualPooling(\n      (1_outvar_dimred): Conv2d(256, 256, kernel_size=(1, 1), stride=(1, 1), groups=256, bias=False)\n      (2_outvar_dimred): Conv2d(256, 256, kernel_size=(1, 1), stride=(1, 1), groups=256, bias=False)\n      (3_outvar_dimred): Conv2d(256, 256, kernel_size=(1, 1), stride=(1, 1), groups=256, bias=False)\n      (4_outvar_dimred): Conv2d(256, 256, kernel_size=(1, 1), stride=(1, 1), groups=256, bias=False)\n      (max_pool): MaxPool2d(kernel_size=5, stride=1, padding=2, dilation=1, ceil_mode=False)\n    )\n  )\n  (conv_adapt4): Conv2d(256, 256, kernel_size=(1, 1), stride=(1, 1), bias=False)\n  (conv_adapt3): Conv2d(256, 256, kernel_size=(1, 1), stride=(1, 1), bias=False)\n  (conv_adapt2): Conv2d(256, 256, kernel_size=(1, 1), stride=(1, 1), bias=False)\n  (pre_depth): Conv2d(256, 256, kernel_size=(1, 1), stride=(1, 1), groups=256, bias=False)\n  (depth): Conv2d(256, 1, kernel_size=(3, 3), stride=(1, 1), padding=(1, 1))\n  (pre_segm): Conv2d(256, 256, kernel_size=(1, 1), stride=(1, 1), groups=256, bias=False)\n  (segm): Conv2d(256, 6, kernel_size=(3, 3), stride=(1, 1), padding=(1, 1))\n  (relu): ReLU6(inplace=True)\n)"
     },
     "execution_count": 5,
     "metadata": {},
     "output_type": "execute_result"
    }
   ],
   "source": [
    "device = torch.device(\"cuda:0\" if torch.cuda.is_available() else \"cpu\")\n",
    "model.to(device)"
   ],
   "metadata": {
    "collapsed": false
   }
  },
  {
   "cell_type": "code",
   "execution_count": 6,
   "outputs": [],
   "source": [
    "CMAP = np.load('cmap.npy')\n",
    "NUM_CLASSES = 6"
   ],
   "metadata": {
    "collapsed": false
   }
  },
  {
   "cell_type": "code",
   "execution_count": 7,
   "outputs": [
    {
     "name": "stderr",
     "output_type": "stream",
     "text": [
      "100%|█████████▉| 1169/1170 [02:17<00:00,  8.50it/s]\n"
     ]
    }
   ],
   "source": [
    "from utils import predict_video\n",
    "\n",
    "predict_video(model, \"MultiTaskKITTI\", \"highway_1241_376.avi\", \"demo\", CMAP, NUM_CLASSES)"
   ],
   "metadata": {
    "collapsed": false
   }
  }
 ],
 "metadata": {
  "kernelspec": {
   "display_name": "Python 3",
   "language": "python",
   "name": "python3"
  },
  "language_info": {
   "codemirror_mode": {
    "name": "ipython",
    "version": 2
   },
   "file_extension": ".py",
   "mimetype": "text/x-python",
   "name": "python",
   "nbconvert_exporter": "python",
   "pygments_lexer": "ipython2",
   "version": "2.7.6"
  }
 },
 "nbformat": 4,
 "nbformat_minor": 0
}
